{
 "cells": [
  {
   "cell_type": "code",
   "execution_count": 20,
   "metadata": {
    "colab": {
     "base_uri": "https://localhost:8080/"
    },
    "id": "peuDAjTnNJmI",
    "outputId": "01a61768-c5f3-4608-eefa-4e39aba45625"
   },
   "outputs": [
    {
     "name": "stdout",
     "output_type": "stream",
     "text": [
      "Requirement already satisfied: beautifulsoup4 in c:\\users\\sirik\\anaconda3\\lib\\site-packages (4.12.0)"
     ]
    },
    {
     "name": "stderr",
     "output_type": "stream",
     "text": [
      "WARNING: Ignoring invalid distribution -rotobuf (c:\\users\\sirik\\anaconda3\\lib\\site-packages)\n",
      "WARNING: Ignoring invalid distribution -rotobuf (c:\\users\\sirik\\anaconda3\\lib\\site-packages)\n",
      "WARNING: Ignoring invalid distribution -rotobuf (c:\\users\\sirik\\anaconda3\\lib\\site-packages)\n",
      "WARNING: Ignoring invalid distribution -rotobuf (c:\\users\\sirik\\anaconda3\\lib\\site-packages)\n",
      "WARNING: Ignoring invalid distribution -rotobuf (c:\\users\\sirik\\anaconda3\\lib\\site-packages)\n",
      "WARNING: Ignoring invalid distribution -rotobuf (c:\\users\\sirik\\anaconda3\\lib\\site-packages)\n"
     ]
    },
    {
     "name": "stdout",
     "output_type": "stream",
     "text": [
      "\n",
      "Requirement already satisfied: soupsieve>1.2 in c:\\users\\sirik\\anaconda3\\lib\\site-packages (from beautifulsoup4) (2.4)\n"
     ]
    }
   ],
   "source": [
    "!pip install beautifulsoup4"
   ]
  },
  {
   "cell_type": "code",
   "execution_count": 21,
   "metadata": {},
   "outputs": [
    {
     "name": "stdout",
     "output_type": "stream",
     "text": [
      "Requirement already satisfied: python-docx in c:\\users\\sirik\\anaconda3\\lib\\site-packages (1.1.0)\n",
      "Requirement already satisfied: lxml>=3.1.0 in c:\\users\\sirik\\anaconda3\\lib\\site-packages (from python-docx) (4.9.1)\n",
      "Requirement already satisfied: typing-extensions in c:\\users\\sirik\\anaconda3\\lib\\site-packages (from python-docx) (4.5.0)\n"
     ]
    },
    {
     "name": "stderr",
     "output_type": "stream",
     "text": [
      "WARNING: Ignoring invalid distribution -rotobuf (c:\\users\\sirik\\anaconda3\\lib\\site-packages)\n",
      "WARNING: Ignoring invalid distribution -rotobuf (c:\\users\\sirik\\anaconda3\\lib\\site-packages)\n",
      "WARNING: Ignoring invalid distribution -rotobuf (c:\\users\\sirik\\anaconda3\\lib\\site-packages)\n",
      "WARNING: Ignoring invalid distribution -rotobuf (c:\\users\\sirik\\anaconda3\\lib\\site-packages)\n",
      "WARNING: Ignoring invalid distribution -rotobuf (c:\\users\\sirik\\anaconda3\\lib\\site-packages)\n",
      "WARNING: Ignoring invalid distribution -rotobuf (c:\\users\\sirik\\anaconda3\\lib\\site-packages)\n"
     ]
    }
   ],
   "source": [
    "!pip install python-docx"
   ]
  },
  {
   "cell_type": "code",
   "execution_count": 22,
   "metadata": {
    "id": "M57M3OFoNb65"
   },
   "outputs": [],
   "source": [
    "from bs4 import BeautifulSoup\n",
    "import requests\n",
    "import urllib.parse\n",
    "from datetime import datetime\n",
    "import pandas as pd\n",
    "from pathlib import Path\n",
    "\n",
    "from docx import Document"
   ]
  },
  {
   "cell_type": "code",
   "execution_count": 23,
   "metadata": {
    "colab": {
     "base_uri": "https://localhost:8080/"
    },
    "id": "9u8aNT8BNb4W",
    "outputId": "b13e0619-9a64-4d1a-f73a-659098826a24"
   },
   "outputs": [
    {
     "name": "stdout",
     "output_type": "stream",
     "text": [
      "Enter URL:https://www.linkedin.com/jobs/view/3837275834\n"
     ]
    }
   ],
   "source": [
    "# URL of the webpage you want to parse\n",
    "url = input(\"Enter URL:\")"
   ]
  },
  {
   "cell_type": "code",
   "execution_count": 24,
   "metadata": {
    "colab": {
     "base_uri": "https://localhost:8080/"
    },
    "id": "OqtTHc1oNb16",
    "outputId": "b7ebf5f7-e550-486d-8958-8ce2871b5bfa"
   },
   "outputs": [
    {
     "name": "stdout",
     "output_type": "stream",
     "text": [
      "URL is: https://www.linkedin.com/jobs/view/3837275834\n"
     ]
    }
   ],
   "source": [
    "print(\"URL is: \" + url)"
   ]
  },
  {
   "cell_type": "code",
   "execution_count": 25,
   "metadata": {
    "colab": {
     "base_uri": "https://localhost:8080/"
    },
    "id": "4GPZ40NdNbzR",
    "outputId": "5c103b7b-86cb-4b25-d7ad-d9bd80bb2397"
   },
   "outputs": [
    {
     "data": {
      "text/plain": [
       "<Response [200]>"
      ]
     },
     "execution_count": 25,
     "metadata": {},
     "output_type": "execute_result"
    }
   ],
   "source": [
    "# Send a GET request to the URL\n",
    "response = requests.get(url)\n",
    "response"
   ]
  },
  {
   "cell_type": "code",
   "execution_count": 26,
   "metadata": {
    "id": "Jbdjmb6INbvh"
   },
   "outputs": [],
   "source": [
    "# Parse the HTML content\n",
    "soup = BeautifulSoup(response.content, \"html.parser\")\n",
    "\n",
    "#soup"
   ]
  },
  {
   "cell_type": "code",
   "execution_count": 27,
   "metadata": {
    "colab": {
     "base_uri": "https://localhost:8080/",
     "height": 36
    },
    "id": "LxWYX4TsJJwa",
    "outputId": "ac92bf81-f11f-47eb-86ba-e9674f4f2b6a"
   },
   "outputs": [
    {
     "data": {
      "text/plain": [
       "'Salesforce hiring Analyst, Audience Strategy & Architecture in Seattle, WA | LinkedIn'"
      ]
     },
     "execution_count": 27,
     "metadata": {},
     "output_type": "execute_result"
    }
   ],
   "source": [
    "# Extract job role\n",
    "job_role_element = soup.find(\"title\")\n",
    "job_role = job_role_element.text.strip() if job_role_element else \"Job role not found\"\n",
    "job_role"
   ]
  },
  {
   "cell_type": "code",
   "execution_count": 28,
   "metadata": {
    "colab": {
     "base_uri": "https://localhost:8080/",
     "height": 36
    },
    "id": "zoo6fX2-JR3T",
    "outputId": "55b40e09-f0f0-46fa-b137-b6de6e0ee296"
   },
   "outputs": [
    {
     "data": {
      "text/plain": [
       "'Analyst, Audience Strategy & Architecture'"
      ]
     },
     "execution_count": 28,
     "metadata": {},
     "output_type": "execute_result"
    }
   ],
   "source": [
    "# Extract job role\n",
    "job_role_element = soup.find(\"h3\", class_=\"sub-nav-cta__header\")\n",
    "job_role = job_role_element.text.strip() if job_role_element else \"Job role not found\"\n",
    "job_role"
   ]
  },
  {
   "cell_type": "code",
   "execution_count": 29,
   "metadata": {
    "colab": {
     "base_uri": "https://localhost:8080/",
     "height": 36
    },
    "id": "qAwtnQ1yPrF4",
    "outputId": "4311c992-bdce-4fef-c3cf-b0ce4d1bd259"
   },
   "outputs": [
    {
     "data": {
      "text/plain": [
       "'Seattle, WA'"
      ]
     },
     "execution_count": 29,
     "metadata": {},
     "output_type": "execute_result"
    }
   ],
   "source": [
    "# Extract job role\n",
    "job_role_element = soup.find(\"span\", class_=\"sub-nav-cta__meta-text\")\n",
    "job_loc = job_role_element.text.strip() if job_role_element else \"Job role not found\"\n",
    "job_loc"
   ]
  },
  {
   "cell_type": "code",
   "execution_count": 30,
   "metadata": {
    "colab": {
     "base_uri": "https://localhost:8080/",
     "height": 36
    },
    "id": "0hixKh0KQDvK",
    "outputId": "994b93c0-6532-4692-8b0c-1dad2ef61b0a"
   },
   "outputs": [
    {
     "data": {
      "text/plain": [
       "'Salesforce'"
      ]
     },
     "execution_count": 30,
     "metadata": {},
     "output_type": "execute_result"
    }
   ],
   "source": [
    "# Extract job role\n",
    "job_role_element = soup.find(\"a\", class_=\"sub-nav-cta__optional-url\")\n",
    "company = job_role_element.text.strip() if job_role_element else \"Job role not found\"\n",
    "company"
   ]
  },
  {
   "cell_type": "code",
   "execution_count": 31,
   "metadata": {
    "colab": {
     "base_uri": "https://localhost:8080/"
    },
    "id": "zEbU1L4h_5Vg",
    "outputId": "77eb090b-7a16-471c-ff9b-e60cb9ad89f5"
   },
   "outputs": [
    {
     "data": {
      "text/plain": [
       "<code id=\"applyUrl\" style=\"display: none\"><!--\"https://www.linkedin.com/jobs/view/externalApply/3837275834?url=https%3A%2F%2Fsalesforce%2Ewd12%2Emyworkdayjobs%2Ecom%2FExternal_Career_Site%2Fjob%2FIndiana\\u002d\\u002d-Indianapolis%2FAnalyst\\u002d\\u002dAudience-Strategy\\u002d\\u002d-Architecture_JR239972%3Fsource%3DLinkedIn_Jobs&urlHash=vZau\"--></code>"
      ]
     },
     "execution_count": 31,
     "metadata": {},
     "output_type": "execute_result"
    }
   ],
   "source": [
    "# Find the code tag with id \"applyUrl\" and get its content\n",
    "apply_url_element = soup.find(\"code\", id=\"applyUrl\")\n",
    "apply_url_element"
   ]
  },
  {
   "cell_type": "code",
   "execution_count": 32,
   "metadata": {
    "colab": {
     "base_uri": "https://localhost:8080/"
    },
    "id": "mzbcTzQcARMv",
    "outputId": "eca0eda4-bf20-4f85-9379-33c1f69b1e94"
   },
   "outputs": [
    {
     "name": "stdout",
     "output_type": "stream",
     "text": [
      "Apply link: \"https://www.linkedin.com/jobs/view/externalApply/3837275834?url=https%3A%2F%2Fsalesforce%2Ewd12%2Emyworkdayjobs%2Ecom%2FExternal_Career_Site%2Fjob%2FIndiana\\u002d\\u002d-Indianapolis%2FAnalyst\\u002d\\u002dAudience-Strategy\\u002d\\u002d-Architecture_JR239972%3Fsource%3DLinkedIn_Jobs&urlHash=vZau\"\n"
     ]
    }
   ],
   "source": [
    "if apply_url_element:\n",
    "    # Get the content of the code tag and remove unnecessary characters\n",
    "     apply_url_content = apply_url_element.contents[0].strip().replace('<!--\"', '').replace('\"-->', '')\n",
    "     print(\"Apply link:\", apply_url_content)\n",
    "else:\n",
    "     print(\"Apply link not found\")"
   ]
  },
  {
   "cell_type": "code",
   "execution_count": 33,
   "metadata": {
    "colab": {
     "base_uri": "https://localhost:8080/"
    },
    "id": "zMIs9IOBC4Pe",
    "outputId": "42ae432d-ac7a-4b65-c72e-6180ef8746ab"
   },
   "outputs": [
    {
     "name": "stdout",
     "output_type": "stream",
     "text": [
      "Today's date is: 2024-04-21\n"
     ]
    }
   ],
   "source": [
    "# Get today's date\n",
    "today = datetime.today().date()\n",
    "\n",
    "# Print today's date\n",
    "print(\"Today's date is:\", today)"
   ]
  },
  {
   "cell_type": "code",
   "execution_count": 34,
   "metadata": {
    "colab": {
     "base_uri": "https://localhost:8080/",
     "height": 36
    },
    "id": "KJ4uJFh_HN1A",
    "outputId": "b62635f1-a1c8-41d6-dd11-94db15d925b4"
   },
   "outputs": [
    {
     "data": {
      "text/plain": [
       "'job_applications.xlsx'"
      ]
     },
     "execution_count": 34,
     "metadata": {},
     "output_type": "execute_result"
    }
   ],
   "source": [
    "# Create or load the Excel file\n",
    "excel_file_path = 'job_applications.xlsx'\n",
    "excel_file_path"
   ]
  },
  {
   "cell_type": "code",
   "execution_count": 35,
   "metadata": {
    "colab": {
     "base_uri": "https://localhost:8080/",
     "height": 222
    },
    "id": "0yiQnDKYHafK",
    "outputId": "663803ab-193f-4858-da13-8d43d4803a59"
   },
   "outputs": [
    {
     "data": {
      "text/html": [
       "<div>\n",
       "<style scoped>\n",
       "    .dataframe tbody tr th:only-of-type {\n",
       "        vertical-align: middle;\n",
       "    }\n",
       "\n",
       "    .dataframe tbody tr th {\n",
       "        vertical-align: top;\n",
       "    }\n",
       "\n",
       "    .dataframe thead th {\n",
       "        text-align: right;\n",
       "    }\n",
       "</style>\n",
       "<table border=\"1\" class=\"dataframe\">\n",
       "  <thead>\n",
       "    <tr style=\"text-align: right;\">\n",
       "      <th></th>\n",
       "      <th>Job Role</th>\n",
       "      <th>Company</th>\n",
       "      <th>Location</th>\n",
       "      <th>Apply URL</th>\n",
       "      <th>LinkedIn Link</th>\n",
       "      <th>Date of Application</th>\n",
       "    </tr>\n",
       "  </thead>\n",
       "  <tbody>\n",
       "    <tr>\n",
       "      <th>0</th>\n",
       "      <td>Business Intelligence Engineer - NASC Forecast...</td>\n",
       "      <td>Amazon</td>\n",
       "      <td>Nashville, TN</td>\n",
       "      <td>\"https://www.linkedin.com/jobs/view/externalAp...</td>\n",
       "      <td>https://www.linkedin.com/jobs/view/3891987166</td>\n",
       "      <td>2024-04-20</td>\n",
       "    </tr>\n",
       "    <tr>\n",
       "      <th>1</th>\n",
       "      <td>Business Intelligence Engineer , Inbound, GCF ...</td>\n",
       "      <td>Amazon</td>\n",
       "      <td>Bellevue, WA</td>\n",
       "      <td>\"https://www.linkedin.com/jobs/view/externalAp...</td>\n",
       "      <td>https://www.linkedin.com/jobs/view/3900250912</td>\n",
       "      <td>2024-04-20</td>\n",
       "    </tr>\n",
       "    <tr>\n",
       "      <th>2</th>\n",
       "      <td>Analyst I, Financial Products</td>\n",
       "      <td>Affirm</td>\n",
       "      <td>Phoenix, AZ</td>\n",
       "      <td>\"https://www.linkedin.com/jobs/view/externalAp...</td>\n",
       "      <td>https://www.linkedin.com/jobs/view/3903362431</td>\n",
       "      <td>2024-04-20</td>\n",
       "    </tr>\n",
       "    <tr>\n",
       "      <th>3</th>\n",
       "      <td>Analyst I, Financial Products</td>\n",
       "      <td>Affirm</td>\n",
       "      <td>Phoenix, AZ</td>\n",
       "      <td>\"https://www.linkedin.com/jobs/view/externalAp...</td>\n",
       "      <td>https://www.linkedin.com/jobs/view/3903362431</td>\n",
       "      <td>2024-04-20</td>\n",
       "    </tr>\n",
       "    <tr>\n",
       "      <th>4</th>\n",
       "      <td>Sr Analyst, Data Management</td>\n",
       "      <td>Cox Enterprises</td>\n",
       "      <td>Atlanta, GA</td>\n",
       "      <td>\"https://www.linkedin.com/jobs/view/externalAp...</td>\n",
       "      <td>https://www.linkedin.com/jobs/view/3903222083</td>\n",
       "      <td>2024-04-20</td>\n",
       "    </tr>\n",
       "  </tbody>\n",
       "</table>\n",
       "</div>"
      ],
      "text/plain": [
       "                                            Job Role          Company  \\\n",
       "0  Business Intelligence Engineer - NASC Forecast...           Amazon   \n",
       "1  Business Intelligence Engineer , Inbound, GCF ...           Amazon   \n",
       "2                      Analyst I, Financial Products           Affirm   \n",
       "3                      Analyst I, Financial Products           Affirm   \n",
       "4                        Sr Analyst, Data Management  Cox Enterprises   \n",
       "\n",
       "        Location                                          Apply URL  \\\n",
       "0  Nashville, TN  \"https://www.linkedin.com/jobs/view/externalAp...   \n",
       "1   Bellevue, WA  \"https://www.linkedin.com/jobs/view/externalAp...   \n",
       "2    Phoenix, AZ  \"https://www.linkedin.com/jobs/view/externalAp...   \n",
       "3    Phoenix, AZ  \"https://www.linkedin.com/jobs/view/externalAp...   \n",
       "4    Atlanta, GA  \"https://www.linkedin.com/jobs/view/externalAp...   \n",
       "\n",
       "                                   LinkedIn Link Date of Application  \n",
       "0  https://www.linkedin.com/jobs/view/3891987166          2024-04-20  \n",
       "1  https://www.linkedin.com/jobs/view/3900250912          2024-04-20  \n",
       "2  https://www.linkedin.com/jobs/view/3903362431          2024-04-20  \n",
       "3  https://www.linkedin.com/jobs/view/3903362431          2024-04-20  \n",
       "4  https://www.linkedin.com/jobs/view/3903222083          2024-04-20  "
      ]
     },
     "execution_count": 35,
     "metadata": {},
     "output_type": "execute_result"
    }
   ],
   "source": [
    "if Path(excel_file_path).is_file():\n",
    "    df = pd.read_excel(excel_file_path)\n",
    "else:\n",
    "    df = pd.DataFrame(columns=['Job Role', 'Company', 'Location', 'Apply URL', 'LinkedIn Link', 'Date of Application'])\n",
    "df"
   ]
  },
  {
   "cell_type": "code",
   "execution_count": 36,
   "metadata": {
    "colab": {
     "base_uri": "https://localhost:8080/"
    },
    "id": "MVOm4yVhHdeT",
    "outputId": "1ffa51c8-11da-4131-84b3-20045d5e974c"
   },
   "outputs": [
    {
     "data": {
      "text/plain": [
       "{'Job Role': 'Analyst, Audience Strategy & Architecture',\n",
       " 'Company': 'Salesforce',\n",
       " 'Location': 'Seattle, WA',\n",
       " 'Apply URL': '\"https://www.linkedin.com/jobs/view/externalApply/3837275834?url=https%3A%2F%2Fsalesforce%2Ewd12%2Emyworkdayjobs%2Ecom%2FExternal_Career_Site%2Fjob%2FIndiana\\\\u002d\\\\u002d-Indianapolis%2FAnalyst\\\\u002d\\\\u002dAudience-Strategy\\\\u002d\\\\u002d-Architecture_JR239972%3Fsource%3DLinkedIn_Jobs&urlHash=vZau\"',\n",
       " 'LinkedIn Link': 'https://www.linkedin.com/jobs/view/3837275834',\n",
       " 'Date of Application': datetime.date(2024, 4, 21)}"
      ]
     },
     "execution_count": 36,
     "metadata": {},
     "output_type": "execute_result"
    }
   ],
   "source": [
    "# Append the data to the DataFrame\n",
    "new_row = {'Job Role': job_role, 'Company': company, 'Location': job_loc, 'Apply URL': apply_url_content, 'LinkedIn Link': url, 'Date of Application': today}\n",
    "new_row"
   ]
  },
  {
   "cell_type": "code",
   "execution_count": 37,
   "metadata": {
    "colab": {
     "base_uri": "https://localhost:8080/",
     "height": 288
    },
    "id": "PbpAJs2ZHyTP",
    "outputId": "057c0944-a14b-40d7-8353-80e6173d52ad"
   },
   "outputs": [
    {
     "data": {
      "text/html": [
       "<div>\n",
       "<style scoped>\n",
       "    .dataframe tbody tr th:only-of-type {\n",
       "        vertical-align: middle;\n",
       "    }\n",
       "\n",
       "    .dataframe tbody tr th {\n",
       "        vertical-align: top;\n",
       "    }\n",
       "\n",
       "    .dataframe thead th {\n",
       "        text-align: right;\n",
       "    }\n",
       "</style>\n",
       "<table border=\"1\" class=\"dataframe\">\n",
       "  <thead>\n",
       "    <tr style=\"text-align: right;\">\n",
       "      <th></th>\n",
       "      <th>Job Role</th>\n",
       "      <th>Company</th>\n",
       "      <th>Location</th>\n",
       "      <th>Apply URL</th>\n",
       "      <th>LinkedIn Link</th>\n",
       "      <th>Date of Application</th>\n",
       "    </tr>\n",
       "  </thead>\n",
       "  <tbody>\n",
       "    <tr>\n",
       "      <th>0</th>\n",
       "      <td>Business Intelligence Engineer - NASC Forecast...</td>\n",
       "      <td>Amazon</td>\n",
       "      <td>Nashville, TN</td>\n",
       "      <td>\"https://www.linkedin.com/jobs/view/externalAp...</td>\n",
       "      <td>https://www.linkedin.com/jobs/view/3891987166</td>\n",
       "      <td>2024-04-20 00:00:00</td>\n",
       "    </tr>\n",
       "    <tr>\n",
       "      <th>1</th>\n",
       "      <td>Business Intelligence Engineer , Inbound, GCF ...</td>\n",
       "      <td>Amazon</td>\n",
       "      <td>Bellevue, WA</td>\n",
       "      <td>\"https://www.linkedin.com/jobs/view/externalAp...</td>\n",
       "      <td>https://www.linkedin.com/jobs/view/3900250912</td>\n",
       "      <td>2024-04-20 00:00:00</td>\n",
       "    </tr>\n",
       "    <tr>\n",
       "      <th>2</th>\n",
       "      <td>Analyst I, Financial Products</td>\n",
       "      <td>Affirm</td>\n",
       "      <td>Phoenix, AZ</td>\n",
       "      <td>\"https://www.linkedin.com/jobs/view/externalAp...</td>\n",
       "      <td>https://www.linkedin.com/jobs/view/3903362431</td>\n",
       "      <td>2024-04-20 00:00:00</td>\n",
       "    </tr>\n",
       "    <tr>\n",
       "      <th>3</th>\n",
       "      <td>Analyst I, Financial Products</td>\n",
       "      <td>Affirm</td>\n",
       "      <td>Phoenix, AZ</td>\n",
       "      <td>\"https://www.linkedin.com/jobs/view/externalAp...</td>\n",
       "      <td>https://www.linkedin.com/jobs/view/3903362431</td>\n",
       "      <td>2024-04-20 00:00:00</td>\n",
       "    </tr>\n",
       "    <tr>\n",
       "      <th>4</th>\n",
       "      <td>Sr Analyst, Data Management</td>\n",
       "      <td>Cox Enterprises</td>\n",
       "      <td>Atlanta, GA</td>\n",
       "      <td>\"https://www.linkedin.com/jobs/view/externalAp...</td>\n",
       "      <td>https://www.linkedin.com/jobs/view/3903222083</td>\n",
       "      <td>2024-04-20 00:00:00</td>\n",
       "    </tr>\n",
       "    <tr>\n",
       "      <th>5</th>\n",
       "      <td>Analyst, Audience Strategy &amp; Architecture</td>\n",
       "      <td>Salesforce</td>\n",
       "      <td>Seattle, WA</td>\n",
       "      <td>\"https://www.linkedin.com/jobs/view/externalAp...</td>\n",
       "      <td>https://www.linkedin.com/jobs/view/3837275834</td>\n",
       "      <td>2024-04-21</td>\n",
       "    </tr>\n",
       "  </tbody>\n",
       "</table>\n",
       "</div>"
      ],
      "text/plain": [
       "                                            Job Role          Company  \\\n",
       "0  Business Intelligence Engineer - NASC Forecast...           Amazon   \n",
       "1  Business Intelligence Engineer , Inbound, GCF ...           Amazon   \n",
       "2                      Analyst I, Financial Products           Affirm   \n",
       "3                      Analyst I, Financial Products           Affirm   \n",
       "4                        Sr Analyst, Data Management  Cox Enterprises   \n",
       "5          Analyst, Audience Strategy & Architecture       Salesforce   \n",
       "\n",
       "        Location                                          Apply URL  \\\n",
       "0  Nashville, TN  \"https://www.linkedin.com/jobs/view/externalAp...   \n",
       "1   Bellevue, WA  \"https://www.linkedin.com/jobs/view/externalAp...   \n",
       "2    Phoenix, AZ  \"https://www.linkedin.com/jobs/view/externalAp...   \n",
       "3    Phoenix, AZ  \"https://www.linkedin.com/jobs/view/externalAp...   \n",
       "4    Atlanta, GA  \"https://www.linkedin.com/jobs/view/externalAp...   \n",
       "5    Seattle, WA  \"https://www.linkedin.com/jobs/view/externalAp...   \n",
       "\n",
       "                                   LinkedIn Link  Date of Application  \n",
       "0  https://www.linkedin.com/jobs/view/3891987166  2024-04-20 00:00:00  \n",
       "1  https://www.linkedin.com/jobs/view/3900250912  2024-04-20 00:00:00  \n",
       "2  https://www.linkedin.com/jobs/view/3903362431  2024-04-20 00:00:00  \n",
       "3  https://www.linkedin.com/jobs/view/3903362431  2024-04-20 00:00:00  \n",
       "4  https://www.linkedin.com/jobs/view/3903222083  2024-04-20 00:00:00  \n",
       "5  https://www.linkedin.com/jobs/view/3837275834           2024-04-21  "
      ]
     },
     "execution_count": 37,
     "metadata": {},
     "output_type": "execute_result"
    }
   ],
   "source": [
    "df = pd.concat([df, pd.DataFrame([new_row])], ignore_index=True)\n",
    "df\n"
   ]
  },
  {
   "cell_type": "code",
   "execution_count": 38,
   "metadata": {
    "colab": {
     "base_uri": "https://localhost:8080/"
    },
    "id": "_TqWGxecHsNG",
    "outputId": "9e1fa66a-5681-4a85-c702-d448ca0f537a"
   },
   "outputs": [
    {
     "name": "stdout",
     "output_type": "stream",
     "text": [
      "Data appended to Excel file successfully.\n"
     ]
    }
   ],
   "source": [
    "# Save the DataFrame back to the Excel file\n",
    "df.to_excel(excel_file_path, index=False)\n",
    "\n",
    "print(\"Data appended to Excel file successfully.\")"
   ]
  },
  {
   "cell_type": "code",
   "execution_count": 39,
   "metadata": {},
   "outputs": [
    {
     "data": {
      "text/plain": [
       "<docx.document.Document at 0x2400611a940>"
      ]
     },
     "execution_count": 39,
     "metadata": {},
     "output_type": "execute_result"
    }
   ],
   "source": [
    "# Load the resume Word document\n",
    "resume_docx_path = r\"C:\\Users\\sirik\\OneDrive\\Desktop\\Resume\\Automating Job application\\SiriKademani.docx\"\n",
    "doc = Document(resume_docx_path)\n",
    "doc"
   ]
  },
  {
   "cell_type": "code",
   "execution_count": 40,
   "metadata": {},
   "outputs": [],
   "source": [
    "# Replace location in the resume with the extracted job location\n",
    "for paragraph in doc.paragraphs:\n",
    "    if \"job_location\" in paragraph.text:\n",
    "        \n",
    "        paragraph.text = paragraph.text.replace(\"job_location\", job_loc)"
   ]
  },
  {
   "cell_type": "code",
   "execution_count": 41,
   "metadata": {},
   "outputs": [],
   "source": [
    "# Save the updated resume\n",
    "updated_resume_path = r\"C:\\Users\\sirik\\OneDrive\\Desktop\\Resume\\Automating Job application\\updated_resume.docx\"\n",
    "doc.save(updated_resume_path)"
   ]
  },
  {
   "cell_type": "code",
   "execution_count": 42,
   "metadata": {},
   "outputs": [
    {
     "name": "stdout",
     "output_type": "stream",
     "text": [
      "Word document saved as PDF: C:\\Users\\sirik\\OneDrive\\Desktop\\Resume\\Automating Job application\\updated_resume.pdf\n"
     ]
    }
   ],
   "source": [
    "# Function to save the Word document as PDF\n",
    "def save_as_pdf(word_doc_path):\n",
    "    # Load the Word document\n",
    "    doc = Document(word_doc_path)\n",
    "\n",
    "    # Generate the output PDF path (overwriting existing PDF)\n",
    "    pdf_path = word_doc_path.replace(\".docx\", \".pdf\")\n",
    "\n",
    "    # Save the Word document as PDF\n",
    "    doc.save(pdf_path)\n",
    "\n",
    "    print(f\"Word document saved as PDF: {pdf_path}\")\n",
    "\n",
    "# Example usage\n",
    "word_doc_path = r\"C:\\Users\\sirik\\OneDrive\\Desktop\\Resume\\Automating Job application\\updated_resume.docx\"\n",
    "save_as_pdf(word_doc_path)\n"
   ]
  },
  {
   "cell_type": "code",
   "execution_count": null,
   "metadata": {},
   "outputs": [],
   "source": []
  },
  {
   "cell_type": "code",
   "execution_count": null,
   "metadata": {},
   "outputs": [],
   "source": []
  },
  {
   "cell_type": "code",
   "execution_count": null,
   "metadata": {},
   "outputs": [],
   "source": []
  },
  {
   "cell_type": "code",
   "execution_count": null,
   "metadata": {},
   "outputs": [],
   "source": []
  },
  {
   "cell_type": "code",
   "execution_count": null,
   "metadata": {},
   "outputs": [],
   "source": []
  }
 ],
 "metadata": {
  "colab": {
   "provenance": []
  },
  "kernelspec": {
   "display_name": "Python 3 (ipykernel)",
   "language": "python",
   "name": "python3"
  },
  "language_info": {
   "codemirror_mode": {
    "name": "ipython",
    "version": 3
   },
   "file_extension": ".py",
   "mimetype": "text/x-python",
   "name": "python",
   "nbconvert_exporter": "python",
   "pygments_lexer": "ipython3",
   "version": "3.9.16"
  }
 },
 "nbformat": 4,
 "nbformat_minor": 1
}
